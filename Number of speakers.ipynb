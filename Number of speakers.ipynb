{
 "cells": [
  {
   "cell_type": "code",
   "execution_count": 11,
   "id": "5ddcc895",
   "metadata": {},
   "outputs": [],
   "source": [
    "import pandas as pd\n",
    "import seaborn as sns\n",
    "import numpy as np"
   ]
  },
  {
   "cell_type": "code",
   "execution_count": 4,
   "id": "ec2ed5a4",
   "metadata": {},
   "outputs": [],
   "source": [
    "df = pd.read_csv(\"/Users/arie/Downloads/cv-corpus-12.0-2022-12-07/nl/validated.tsv\", delimiter=\"\\t\")"
   ]
  },
  {
   "cell_type": "code",
   "execution_count": 5,
   "id": "f5dc4b57",
   "metadata": {},
   "outputs": [
    {
     "data": {
      "text/html": [
       "<div>\n",
       "<style scoped>\n",
       "    .dataframe tbody tr th:only-of-type {\n",
       "        vertical-align: middle;\n",
       "    }\n",
       "\n",
       "    .dataframe tbody tr th {\n",
       "        vertical-align: top;\n",
       "    }\n",
       "\n",
       "    .dataframe thead th {\n",
       "        text-align: right;\n",
       "    }\n",
       "</style>\n",
       "<table border=\"1\" class=\"dataframe\">\n",
       "  <thead>\n",
       "    <tr style=\"text-align: right;\">\n",
       "      <th></th>\n",
       "      <th>client_id</th>\n",
       "      <th>path</th>\n",
       "      <th>sentence</th>\n",
       "      <th>up_votes</th>\n",
       "      <th>down_votes</th>\n",
       "      <th>age</th>\n",
       "      <th>gender</th>\n",
       "      <th>accents</th>\n",
       "      <th>locale</th>\n",
       "      <th>segment</th>\n",
       "    </tr>\n",
       "  </thead>\n",
       "  <tbody>\n",
       "    <tr>\n",
       "      <th>0</th>\n",
       "      <td>0d709133bf209da7f0164653b6e5f9aee9d059ffaf7686...</td>\n",
       "      <td>common_voice_nl_17699535.mp3</td>\n",
       "      <td>De Aboriginals zijn de oorspronkelijke bewoner...</td>\n",
       "      <td>2</td>\n",
       "      <td>0</td>\n",
       "      <td>fifties</td>\n",
       "      <td>male</td>\n",
       "      <td>NaN</td>\n",
       "      <td>nl</td>\n",
       "      <td>NaN</td>\n",
       "    </tr>\n",
       "    <tr>\n",
       "      <th>1</th>\n",
       "      <td>0dd5cf5dd5cf8efc5f78e3b124432fb2fda791f5fb935c...</td>\n",
       "      <td>common_voice_nl_30632766.mp3</td>\n",
       "      <td>Het gaat niet alleen over economisch rendement.</td>\n",
       "      <td>2</td>\n",
       "      <td>0</td>\n",
       "      <td>NaN</td>\n",
       "      <td>NaN</td>\n",
       "      <td>NaN</td>\n",
       "      <td>nl</td>\n",
       "      <td>NaN</td>\n",
       "    </tr>\n",
       "    <tr>\n",
       "      <th>2</th>\n",
       "      <td>0fca93407be6d482019f2463e60fbafdf598a82517e63c...</td>\n",
       "      <td>common_voice_nl_17694848.mp3</td>\n",
       "      <td>Mijn toetsenbord zit vol stof.</td>\n",
       "      <td>2</td>\n",
       "      <td>1</td>\n",
       "      <td>NaN</td>\n",
       "      <td>NaN</td>\n",
       "      <td>NaN</td>\n",
       "      <td>nl</td>\n",
       "      <td>NaN</td>\n",
       "    </tr>\n",
       "    <tr>\n",
       "      <th>3</th>\n",
       "      <td>175d4117110538cc68a8a0157a7f0a681f3e74fbe37e62...</td>\n",
       "      <td>common_voice_nl_18441136.mp3</td>\n",
       "      <td>Ze had de bank beschadigd met haar skateboard.</td>\n",
       "      <td>2</td>\n",
       "      <td>0</td>\n",
       "      <td>NaN</td>\n",
       "      <td>NaN</td>\n",
       "      <td>NaN</td>\n",
       "      <td>nl</td>\n",
       "      <td>NaN</td>\n",
       "    </tr>\n",
       "    <tr>\n",
       "      <th>4</th>\n",
       "      <td>1cc8cf1b0bd9932d12e44748c9ab33183484a04846a673...</td>\n",
       "      <td>common_voice_nl_32196042.mp3</td>\n",
       "      <td>Europa moet zich blijven concentreren op twee ...</td>\n",
       "      <td>2</td>\n",
       "      <td>0</td>\n",
       "      <td>NaN</td>\n",
       "      <td>NaN</td>\n",
       "      <td>NaN</td>\n",
       "      <td>nl</td>\n",
       "      <td>NaN</td>\n",
       "    </tr>\n",
       "  </tbody>\n",
       "</table>\n",
       "</div>"
      ],
      "text/plain": [
       "                                           client_id  \\\n",
       "0  0d709133bf209da7f0164653b6e5f9aee9d059ffaf7686...   \n",
       "1  0dd5cf5dd5cf8efc5f78e3b124432fb2fda791f5fb935c...   \n",
       "2  0fca93407be6d482019f2463e60fbafdf598a82517e63c...   \n",
       "3  175d4117110538cc68a8a0157a7f0a681f3e74fbe37e62...   \n",
       "4  1cc8cf1b0bd9932d12e44748c9ab33183484a04846a673...   \n",
       "\n",
       "                           path  \\\n",
       "0  common_voice_nl_17699535.mp3   \n",
       "1  common_voice_nl_30632766.mp3   \n",
       "2  common_voice_nl_17694848.mp3   \n",
       "3  common_voice_nl_18441136.mp3   \n",
       "4  common_voice_nl_32196042.mp3   \n",
       "\n",
       "                                            sentence  up_votes  down_votes  \\\n",
       "0  De Aboriginals zijn de oorspronkelijke bewoner...         2           0   \n",
       "1    Het gaat niet alleen over economisch rendement.         2           0   \n",
       "2                     Mijn toetsenbord zit vol stof.         2           1   \n",
       "3     Ze had de bank beschadigd met haar skateboard.         2           0   \n",
       "4  Europa moet zich blijven concentreren op twee ...         2           0   \n",
       "\n",
       "       age gender  accents locale segment  \n",
       "0  fifties   male      NaN     nl     NaN  \n",
       "1      NaN    NaN      NaN     nl     NaN  \n",
       "2      NaN    NaN      NaN     nl     NaN  \n",
       "3      NaN    NaN      NaN     nl     NaN  \n",
       "4      NaN    NaN      NaN     nl     NaN  "
      ]
     },
     "execution_count": 5,
     "metadata": {},
     "output_type": "execute_result"
    }
   ],
   "source": [
    "df.head()"
   ]
  },
  {
   "cell_type": "code",
   "execution_count": 18,
   "id": "8539fa28",
   "metadata": {},
   "outputs": [],
   "source": [
    "summary = df.groupby(\"client_id\").count().sort_values(\"path\", ascending=False)"
   ]
  },
  {
   "cell_type": "code",
   "execution_count": 21,
   "id": "064004ef",
   "metadata": {},
   "outputs": [
    {
     "data": {
      "text/html": [
       "<div>\n",
       "<style scoped>\n",
       "    .dataframe tbody tr th:only-of-type {\n",
       "        vertical-align: middle;\n",
       "    }\n",
       "\n",
       "    .dataframe tbody tr th {\n",
       "        vertical-align: top;\n",
       "    }\n",
       "\n",
       "    .dataframe thead th {\n",
       "        text-align: right;\n",
       "    }\n",
       "</style>\n",
       "<table border=\"1\" class=\"dataframe\">\n",
       "  <thead>\n",
       "    <tr style=\"text-align: right;\">\n",
       "      <th></th>\n",
       "      <th>path</th>\n",
       "      <th>sentence</th>\n",
       "      <th>up_votes</th>\n",
       "      <th>down_votes</th>\n",
       "      <th>age</th>\n",
       "      <th>gender</th>\n",
       "      <th>accents</th>\n",
       "      <th>locale</th>\n",
       "      <th>segment</th>\n",
       "    </tr>\n",
       "    <tr>\n",
       "      <th>client_id</th>\n",
       "      <th></th>\n",
       "      <th></th>\n",
       "      <th></th>\n",
       "      <th></th>\n",
       "      <th></th>\n",
       "      <th></th>\n",
       "      <th></th>\n",
       "      <th></th>\n",
       "      <th></th>\n",
       "    </tr>\n",
       "  </thead>\n",
       "  <tbody>\n",
       "    <tr>\n",
       "      <th>4244270a829329c1e995b5d984c825f54a3d9fd4a5a710e6495387ce6b097c22352a4a8ee3542d6117ece24baa1b9538de31e559eceee399cba29c526df9f03d</th>\n",
       "      <td>197</td>\n",
       "      <td>197</td>\n",
       "      <td>197</td>\n",
       "      <td>197</td>\n",
       "      <td>197</td>\n",
       "      <td>197</td>\n",
       "      <td>0</td>\n",
       "      <td>197</td>\n",
       "      <td>0</td>\n",
       "    </tr>\n",
       "    <tr>\n",
       "      <th>c6e59eed5dad38761e244a1149e3be5a1f7e6527855ec2257a86d51ce7d0a8570a536e13a06ef3b37458669fd86abcb670be99a9d025e1f3d308e57e8419be0a</th>\n",
       "      <td>194</td>\n",
       "      <td>194</td>\n",
       "      <td>194</td>\n",
       "      <td>194</td>\n",
       "      <td>194</td>\n",
       "      <td>194</td>\n",
       "      <td>0</td>\n",
       "      <td>194</td>\n",
       "      <td>0</td>\n",
       "    </tr>\n",
       "    <tr>\n",
       "      <th>984a306deba9547385ac192e53b9e87984267306e7c892d24539c66b9a6c3b5653280ccd024ef0b9e9e38a4bc19f90bec844a3d0a562bab9c6490be4ec97abb9</th>\n",
       "      <td>190</td>\n",
       "      <td>190</td>\n",
       "      <td>190</td>\n",
       "      <td>190</td>\n",
       "      <td>190</td>\n",
       "      <td>190</td>\n",
       "      <td>0</td>\n",
       "      <td>190</td>\n",
       "      <td>0</td>\n",
       "    </tr>\n",
       "    <tr>\n",
       "      <th>76aad4f74a74aad509cc437dffee66589e3ef15d187da723739c819c1cf05a53dbfa4469bea92b71bb599550df536d60aa3bb20a5b4ab33bda8083015680494e</th>\n",
       "      <td>190</td>\n",
       "      <td>190</td>\n",
       "      <td>190</td>\n",
       "      <td>190</td>\n",
       "      <td>0</td>\n",
       "      <td>0</td>\n",
       "      <td>0</td>\n",
       "      <td>190</td>\n",
       "      <td>0</td>\n",
       "    </tr>\n",
       "    <tr>\n",
       "      <th>cdd10f681f8a0c4d0d9a74010cc24a5135eb6ef7efd43aa599f892360e3f08d74ee17703365b289857068b7dc1991adcc374efbfbb0d9ee1979c7470447b5392</th>\n",
       "      <td>189</td>\n",
       "      <td>189</td>\n",
       "      <td>189</td>\n",
       "      <td>189</td>\n",
       "      <td>189</td>\n",
       "      <td>189</td>\n",
       "      <td>0</td>\n",
       "      <td>189</td>\n",
       "      <td>0</td>\n",
       "    </tr>\n",
       "    <tr>\n",
       "      <th>...</th>\n",
       "      <td>...</td>\n",
       "      <td>...</td>\n",
       "      <td>...</td>\n",
       "      <td>...</td>\n",
       "      <td>...</td>\n",
       "      <td>...</td>\n",
       "      <td>...</td>\n",
       "      <td>...</td>\n",
       "      <td>...</td>\n",
       "    </tr>\n",
       "    <tr>\n",
       "      <th>fa58c2af87311a583aebd728f7ab9825b10e8e9fc27d01aaab9510439388cc56f5a79697e0f519e7f9cdc205575f21807b8635917639c179d8892000f9c493c2</th>\n",
       "      <td>102</td>\n",
       "      <td>102</td>\n",
       "      <td>102</td>\n",
       "      <td>102</td>\n",
       "      <td>102</td>\n",
       "      <td>102</td>\n",
       "      <td>0</td>\n",
       "      <td>102</td>\n",
       "      <td>0</td>\n",
       "    </tr>\n",
       "    <tr>\n",
       "      <th>99e874bbeb53f146b0ba609b279b56b02fe14ee951573055e2abdf47f7da57a3addec21e6c6cb7f0b57ac87e736afd8e3632780e98b10a560922bd13a2b6792d</th>\n",
       "      <td>102</td>\n",
       "      <td>102</td>\n",
       "      <td>102</td>\n",
       "      <td>102</td>\n",
       "      <td>102</td>\n",
       "      <td>102</td>\n",
       "      <td>0</td>\n",
       "      <td>102</td>\n",
       "      <td>0</td>\n",
       "    </tr>\n",
       "    <tr>\n",
       "      <th>276a42f4cdd917e6b2ea911430983f248b0ab71de54d093711abdbc9b8d9d625681d0396ee0bf7ebbb97d83b1e4efc4f97e224368dcc981785a495d9840bd858</th>\n",
       "      <td>102</td>\n",
       "      <td>102</td>\n",
       "      <td>102</td>\n",
       "      <td>102</td>\n",
       "      <td>102</td>\n",
       "      <td>102</td>\n",
       "      <td>0</td>\n",
       "      <td>102</td>\n",
       "      <td>14</td>\n",
       "    </tr>\n",
       "    <tr>\n",
       "      <th>7d29d10b44be5b8b329e76d196fb4969aa58d7111453023e0e8620128c5fbece51ea351e35432ea71997a52e0edae99f25876c998dab67d0c269e8ca4078db9c</th>\n",
       "      <td>101</td>\n",
       "      <td>101</td>\n",
       "      <td>101</td>\n",
       "      <td>101</td>\n",
       "      <td>86</td>\n",
       "      <td>86</td>\n",
       "      <td>0</td>\n",
       "      <td>101</td>\n",
       "      <td>0</td>\n",
       "    </tr>\n",
       "    <tr>\n",
       "      <th>408fafa376ff45cac4e4ce05ada4be5977bf1c20f764eb5191b58d09e97a3b0c13badf672296e89bd324a566c9002eb92f9b0153664704bcd69b31095f15b7b3</th>\n",
       "      <td>101</td>\n",
       "      <td>101</td>\n",
       "      <td>101</td>\n",
       "      <td>101</td>\n",
       "      <td>101</td>\n",
       "      <td>101</td>\n",
       "      <td>0</td>\n",
       "      <td>101</td>\n",
       "      <td>0</td>\n",
       "    </tr>\n",
       "  </tbody>\n",
       "</table>\n",
       "<p>63 rows × 9 columns</p>\n",
       "</div>"
      ],
      "text/plain": [
       "                                                    path  sentence  up_votes  \\\n",
       "client_id                                                                      \n",
       "4244270a829329c1e995b5d984c825f54a3d9fd4a5a710e...   197       197       197   \n",
       "c6e59eed5dad38761e244a1149e3be5a1f7e6527855ec22...   194       194       194   \n",
       "984a306deba9547385ac192e53b9e87984267306e7c892d...   190       190       190   \n",
       "76aad4f74a74aad509cc437dffee66589e3ef15d187da72...   190       190       190   \n",
       "cdd10f681f8a0c4d0d9a74010cc24a5135eb6ef7efd43aa...   189       189       189   \n",
       "...                                                  ...       ...       ...   \n",
       "fa58c2af87311a583aebd728f7ab9825b10e8e9fc27d01a...   102       102       102   \n",
       "99e874bbeb53f146b0ba609b279b56b02fe14ee95157305...   102       102       102   \n",
       "276a42f4cdd917e6b2ea911430983f248b0ab71de54d093...   102       102       102   \n",
       "7d29d10b44be5b8b329e76d196fb4969aa58d7111453023...   101       101       101   \n",
       "408fafa376ff45cac4e4ce05ada4be5977bf1c20f764eb5...   101       101       101   \n",
       "\n",
       "                                                    down_votes  age  gender  \\\n",
       "client_id                                                                     \n",
       "4244270a829329c1e995b5d984c825f54a3d9fd4a5a710e...         197  197     197   \n",
       "c6e59eed5dad38761e244a1149e3be5a1f7e6527855ec22...         194  194     194   \n",
       "984a306deba9547385ac192e53b9e87984267306e7c892d...         190  190     190   \n",
       "76aad4f74a74aad509cc437dffee66589e3ef15d187da72...         190    0       0   \n",
       "cdd10f681f8a0c4d0d9a74010cc24a5135eb6ef7efd43aa...         189  189     189   \n",
       "...                                                        ...  ...     ...   \n",
       "fa58c2af87311a583aebd728f7ab9825b10e8e9fc27d01a...         102  102     102   \n",
       "99e874bbeb53f146b0ba609b279b56b02fe14ee95157305...         102  102     102   \n",
       "276a42f4cdd917e6b2ea911430983f248b0ab71de54d093...         102  102     102   \n",
       "7d29d10b44be5b8b329e76d196fb4969aa58d7111453023...         101   86      86   \n",
       "408fafa376ff45cac4e4ce05ada4be5977bf1c20f764eb5...         101  101     101   \n",
       "\n",
       "                                                    accents  locale  segment  \n",
       "client_id                                                                     \n",
       "4244270a829329c1e995b5d984c825f54a3d9fd4a5a710e...        0     197        0  \n",
       "c6e59eed5dad38761e244a1149e3be5a1f7e6527855ec22...        0     194        0  \n",
       "984a306deba9547385ac192e53b9e87984267306e7c892d...        0     190        0  \n",
       "76aad4f74a74aad509cc437dffee66589e3ef15d187da72...        0     190        0  \n",
       "cdd10f681f8a0c4d0d9a74010cc24a5135eb6ef7efd43aa...        0     189        0  \n",
       "...                                                     ...     ...      ...  \n",
       "fa58c2af87311a583aebd728f7ab9825b10e8e9fc27d01a...        0     102        0  \n",
       "99e874bbeb53f146b0ba609b279b56b02fe14ee95157305...        0     102        0  \n",
       "276a42f4cdd917e6b2ea911430983f248b0ab71de54d093...        0     102       14  \n",
       "7d29d10b44be5b8b329e76d196fb4969aa58d7111453023...        0     101        0  \n",
       "408fafa376ff45cac4e4ce05ada4be5977bf1c20f764eb5...        0     101        0  \n",
       "\n",
       "[63 rows x 9 columns]"
      ]
     },
     "execution_count": 21,
     "metadata": {},
     "output_type": "execute_result"
    }
   ],
   "source": [
    "summary[\n",
    "    (summary.path <= 200) &\n",
    "    (summary.path > 100)\n",
    "]\n",
    "# take 1 speaker with 100ish sentences (assuming 1 sentence is 5s, then I should take no more than speakers with >= 360 sentences / 30hours) \n",
    "# sample: fa58c2af87311a583aebd728f7ab9825b10e8e9fc27d01aaab9510439388cc56f5a79697e0f519e7f9cdc205575f21807b8635917639c179d8892000f9c493c2"
   ]
  },
  {
   "cell_type": "code",
   "execution_count": 30,
   "id": "0ab66920",
   "metadata": {},
   "outputs": [],
   "source": [
    "filtered = df[df.client_id == \"fa58c2af87311a583aebd728f7ab9825b10e8e9fc27d01aaab9510439388cc56f5a79697e0f519e7f9cdc205575f21807b8635917639c179d8892000f9c493c2\"].copy()"
   ]
  },
  {
   "cell_type": "code",
   "execution_count": 31,
   "id": "01d6cb5b",
   "metadata": {},
   "outputs": [],
   "source": [
    "filtered[\"wav_path\"] = filtered.path.apply(lambda x: x.split(\".\")[0] + \".wav\")"
   ]
  },
  {
   "cell_type": "code",
   "execution_count": 33,
   "id": "85a8ea65",
   "metadata": {},
   "outputs": [],
   "source": [
    "filtered.to_csv(\"onespeaker.csv\")"
   ]
  },
  {
   "cell_type": "markdown",
   "id": "e71e3b18",
   "metadata": {},
   "source": [
    "I will filter the wav files to only use one speaker"
   ]
  },
  {
   "cell_type": "code",
   "execution_count": 42,
   "id": "e98ae893",
   "metadata": {},
   "outputs": [],
   "source": [
    "filtered[\"local_wav_path\"] = \"/Users/arie/Downloads/cv-corpus-12.0-2022-12-07/nl/wavs/\" + filtered[\"wav_path\"]"
   ]
  },
  {
   "cell_type": "code",
   "execution_count": 45,
   "id": "fd6ebd3a",
   "metadata": {},
   "outputs": [
    {
     "data": {
      "text/plain": [
       "'/Users/arie/Downloads/cv-corpus-12.0-2022-12-07/nl/wavs/common_voice_nl_17706972.wav'"
      ]
     },
     "execution_count": 45,
     "metadata": {},
     "output_type": "execute_result"
    }
   ],
   "source": [
    "# sample 1 path\n",
    "filtered.iloc[0].local_wav_path"
   ]
  },
  {
   "cell_type": "code",
   "execution_count": 46,
   "id": "e0a09712",
   "metadata": {},
   "outputs": [],
   "source": [
    "import shutil\n",
    "from pathlib import Path"
   ]
  },
  {
   "cell_type": "code",
   "execution_count": 48,
   "id": "fe569d6e",
   "metadata": {},
   "outputs": [],
   "source": [
    "# create necessary dir\n",
    "target_dir = \"/Users/arie/Downloads/cv-corpus-12.0-2022-12-07/nl/onespeakerwavs\"\n",
    "Path(target_dir).mkdir(parents=True, exist_ok=True)"
   ]
  },
  {
   "cell_type": "code",
   "execution_count": 49,
   "id": "0824eebd",
   "metadata": {},
   "outputs": [],
   "source": [
    "filtered[\"target_wav_path\"] = target_dir + \"/\" + filtered[\"wav_path\"]"
   ]
  },
  {
   "cell_type": "code",
   "execution_count": 50,
   "id": "d9c26b74",
   "metadata": {},
   "outputs": [
    {
     "data": {
      "text/plain": [
       "'/Users/arie/Downloads/cv-corpus-12.0-2022-12-07/nl/onespeakerwavs/common_voice_nl_17706972.wav'"
      ]
     },
     "execution_count": 50,
     "metadata": {},
     "output_type": "execute_result"
    }
   ],
   "source": [
    "# sample 1 target path\n",
    "filtered.iloc[0].target_wav_path"
   ]
  },
  {
   "cell_type": "code",
   "execution_count": 52,
   "id": "e5b6bea2",
   "metadata": {},
   "outputs": [
    {
     "data": {
      "text/plain": [
       "(102, 13)"
      ]
     },
     "execution_count": 52,
     "metadata": {},
     "output_type": "execute_result"
    }
   ],
   "source": [
    "# I will copy over 102 wav files\n",
    "filtered.shape"
   ]
  },
  {
   "cell_type": "code",
   "execution_count": 55,
   "id": "eb948ff7",
   "metadata": {},
   "outputs": [],
   "source": [
    "# copy and separate one speaker sentence recordings\n",
    "for row_id, row in filtered.iterrows():\n",
    "    shutil.copyfile(row.local_wav_path, row.target_wav_path)"
   ]
  },
  {
   "cell_type": "code",
   "execution_count": 56,
   "id": "7df91b8a",
   "metadata": {},
   "outputs": [
    {
     "name": "stdout",
     "output_type": "stream",
     "text": [
      "/Users/arie/Downloads/cv-corpus-12.0-2022-12-07/nl/onespeakerwavs/common_voice_nl_17706972.wav\r\n"
     ]
    }
   ],
   "source": [
    "!ls /Users/arie/Downloads/cv-corpus-12.0-2022-12-07/nl/onespeakerwavs/common_voice_nl_17706972.wav"
   ]
  },
  {
   "cell_type": "code",
   "execution_count": null,
   "id": "6e89dea5",
   "metadata": {},
   "outputs": [],
   "source": []
  }
 ],
 "metadata": {
  "kernelspec": {
   "display_name": "Python 3 (ipykernel)",
   "language": "python",
   "name": "python3"
  },
  "language_info": {
   "codemirror_mode": {
    "name": "ipython",
    "version": 3
   },
   "file_extension": ".py",
   "mimetype": "text/x-python",
   "name": "python",
   "nbconvert_exporter": "python",
   "pygments_lexer": "ipython3",
   "version": "3.9.15"
  }
 },
 "nbformat": 4,
 "nbformat_minor": 5
}
