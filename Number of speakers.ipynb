{
 "cells": [
  {
   "cell_type": "code",
   "execution_count": 11,
   "id": "7b5d4c17",
   "metadata": {},
   "outputs": [],
   "source": [
    "import pandas as pd\n",
    "import seaborn as sns\n",
    "import numpy as np"
   ]
  },
  {
   "cell_type": "code",
   "execution_count": 4,
   "id": "19ad5911",
   "metadata": {},
   "outputs": [],
   "source": [
    "df = pd.read_csv(\"/Users/arie/Downloads/cv-corpus-12.0-2022-12-07/nl/validated.tsv\", delimiter=\"\\t\")"
   ]
  },
  {
   "cell_type": "code",
   "execution_count": 5,
   "id": "115351e6",
   "metadata": {},
   "outputs": [
    {
     "data": {
      "text/html": [
       "<div>\n",
       "<style scoped>\n",
       "    .dataframe tbody tr th:only-of-type {\n",
       "        vertical-align: middle;\n",
       "    }\n",
       "\n",
       "    .dataframe tbody tr th {\n",
       "        vertical-align: top;\n",
       "    }\n",
       "\n",
       "    .dataframe thead th {\n",
       "        text-align: right;\n",
       "    }\n",
       "</style>\n",
       "<table border=\"1\" class=\"dataframe\">\n",
       "  <thead>\n",
       "    <tr style=\"text-align: right;\">\n",
       "      <th></th>\n",
       "      <th>client_id</th>\n",
       "      <th>path</th>\n",
       "      <th>sentence</th>\n",
       "      <th>up_votes</th>\n",
       "      <th>down_votes</th>\n",
       "      <th>age</th>\n",
       "      <th>gender</th>\n",
       "      <th>accents</th>\n",
       "      <th>locale</th>\n",
       "      <th>segment</th>\n",
       "    </tr>\n",
       "  </thead>\n",
       "  <tbody>\n",
       "    <tr>\n",
       "      <th>0</th>\n",
       "      <td>0d709133bf209da7f0164653b6e5f9aee9d059ffaf7686...</td>\n",
       "      <td>common_voice_nl_17699535.mp3</td>\n",
       "      <td>De Aboriginals zijn de oorspronkelijke bewoner...</td>\n",
       "      <td>2</td>\n",
       "      <td>0</td>\n",
       "      <td>fifties</td>\n",
       "      <td>male</td>\n",
       "      <td>NaN</td>\n",
       "      <td>nl</td>\n",
       "      <td>NaN</td>\n",
       "    </tr>\n",
       "    <tr>\n",
       "      <th>1</th>\n",
       "      <td>0dd5cf5dd5cf8efc5f78e3b124432fb2fda791f5fb935c...</td>\n",
       "      <td>common_voice_nl_30632766.mp3</td>\n",
       "      <td>Het gaat niet alleen over economisch rendement.</td>\n",
       "      <td>2</td>\n",
       "      <td>0</td>\n",
       "      <td>NaN</td>\n",
       "      <td>NaN</td>\n",
       "      <td>NaN</td>\n",
       "      <td>nl</td>\n",
       "      <td>NaN</td>\n",
       "    </tr>\n",
       "    <tr>\n",
       "      <th>2</th>\n",
       "      <td>0fca93407be6d482019f2463e60fbafdf598a82517e63c...</td>\n",
       "      <td>common_voice_nl_17694848.mp3</td>\n",
       "      <td>Mijn toetsenbord zit vol stof.</td>\n",
       "      <td>2</td>\n",
       "      <td>1</td>\n",
       "      <td>NaN</td>\n",
       "      <td>NaN</td>\n",
       "      <td>NaN</td>\n",
       "      <td>nl</td>\n",
       "      <td>NaN</td>\n",
       "    </tr>\n",
       "    <tr>\n",
       "      <th>3</th>\n",
       "      <td>175d4117110538cc68a8a0157a7f0a681f3e74fbe37e62...</td>\n",
       "      <td>common_voice_nl_18441136.mp3</td>\n",
       "      <td>Ze had de bank beschadigd met haar skateboard.</td>\n",
       "      <td>2</td>\n",
       "      <td>0</td>\n",
       "      <td>NaN</td>\n",
       "      <td>NaN</td>\n",
       "      <td>NaN</td>\n",
       "      <td>nl</td>\n",
       "      <td>NaN</td>\n",
       "    </tr>\n",
       "    <tr>\n",
       "      <th>4</th>\n",
       "      <td>1cc8cf1b0bd9932d12e44748c9ab33183484a04846a673...</td>\n",
       "      <td>common_voice_nl_32196042.mp3</td>\n",
       "      <td>Europa moet zich blijven concentreren op twee ...</td>\n",
       "      <td>2</td>\n",
       "      <td>0</td>\n",
       "      <td>NaN</td>\n",
       "      <td>NaN</td>\n",
       "      <td>NaN</td>\n",
       "      <td>nl</td>\n",
       "      <td>NaN</td>\n",
       "    </tr>\n",
       "  </tbody>\n",
       "</table>\n",
       "</div>"
      ],
      "text/plain": [
       "                                           client_id  \\\n",
       "0  0d709133bf209da7f0164653b6e5f9aee9d059ffaf7686...   \n",
       "1  0dd5cf5dd5cf8efc5f78e3b124432fb2fda791f5fb935c...   \n",
       "2  0fca93407be6d482019f2463e60fbafdf598a82517e63c...   \n",
       "3  175d4117110538cc68a8a0157a7f0a681f3e74fbe37e62...   \n",
       "4  1cc8cf1b0bd9932d12e44748c9ab33183484a04846a673...   \n",
       "\n",
       "                           path  \\\n",
       "0  common_voice_nl_17699535.mp3   \n",
       "1  common_voice_nl_30632766.mp3   \n",
       "2  common_voice_nl_17694848.mp3   \n",
       "3  common_voice_nl_18441136.mp3   \n",
       "4  common_voice_nl_32196042.mp3   \n",
       "\n",
       "                                            sentence  up_votes  down_votes  \\\n",
       "0  De Aboriginals zijn de oorspronkelijke bewoner...         2           0   \n",
       "1    Het gaat niet alleen over economisch rendement.         2           0   \n",
       "2                     Mijn toetsenbord zit vol stof.         2           1   \n",
       "3     Ze had de bank beschadigd met haar skateboard.         2           0   \n",
       "4  Europa moet zich blijven concentreren op twee ...         2           0   \n",
       "\n",
       "       age gender  accents locale segment  \n",
       "0  fifties   male      NaN     nl     NaN  \n",
       "1      NaN    NaN      NaN     nl     NaN  \n",
       "2      NaN    NaN      NaN     nl     NaN  \n",
       "3      NaN    NaN      NaN     nl     NaN  \n",
       "4      NaN    NaN      NaN     nl     NaN  "
      ]
     },
     "execution_count": 5,
     "metadata": {},
     "output_type": "execute_result"
    }
   ],
   "source": [
    "df.head()"
   ]
  },
  {
   "cell_type": "code",
   "execution_count": 18,
   "id": "3978b808",
   "metadata": {},
   "outputs": [],
   "source": [
    "summary = df.groupby(\"client_id\").count().sort_values(\"path\", ascending=False)"
   ]
  },
  {
   "cell_type": "code",
   "execution_count": 21,
   "id": "4db3b9f8",
   "metadata": {},
   "outputs": [
    {
     "data": {
      "text/html": [
       "<div>\n",
       "<style scoped>\n",
       "    .dataframe tbody tr th:only-of-type {\n",
       "        vertical-align: middle;\n",
       "    }\n",
       "\n",
       "    .dataframe tbody tr th {\n",
       "        vertical-align: top;\n",
       "    }\n",
       "\n",
       "    .dataframe thead th {\n",
       "        text-align: right;\n",
       "    }\n",
       "</style>\n",
       "<table border=\"1\" class=\"dataframe\">\n",
       "  <thead>\n",
       "    <tr style=\"text-align: right;\">\n",
       "      <th></th>\n",
       "      <th>path</th>\n",
       "      <th>sentence</th>\n",
       "      <th>up_votes</th>\n",
       "      <th>down_votes</th>\n",
       "      <th>age</th>\n",
       "      <th>gender</th>\n",
       "      <th>accents</th>\n",
       "      <th>locale</th>\n",
       "      <th>segment</th>\n",
       "    </tr>\n",
       "    <tr>\n",
       "      <th>client_id</th>\n",
       "      <th></th>\n",
       "      <th></th>\n",
       "      <th></th>\n",
       "      <th></th>\n",
       "      <th></th>\n",
       "      <th></th>\n",
       "      <th></th>\n",
       "      <th></th>\n",
       "      <th></th>\n",
       "    </tr>\n",
       "  </thead>\n",
       "  <tbody>\n",
       "    <tr>\n",
       "      <th>4244270a829329c1e995b5d984c825f54a3d9fd4a5a710e6495387ce6b097c22352a4a8ee3542d6117ece24baa1b9538de31e559eceee399cba29c526df9f03d</th>\n",
       "      <td>197</td>\n",
       "      <td>197</td>\n",
       "      <td>197</td>\n",
       "      <td>197</td>\n",
       "      <td>197</td>\n",
       "      <td>197</td>\n",
       "      <td>0</td>\n",
       "      <td>197</td>\n",
       "      <td>0</td>\n",
       "    </tr>\n",
       "    <tr>\n",
       "      <th>c6e59eed5dad38761e244a1149e3be5a1f7e6527855ec2257a86d51ce7d0a8570a536e13a06ef3b37458669fd86abcb670be99a9d025e1f3d308e57e8419be0a</th>\n",
       "      <td>194</td>\n",
       "      <td>194</td>\n",
       "      <td>194</td>\n",
       "      <td>194</td>\n",
       "      <td>194</td>\n",
       "      <td>194</td>\n",
       "      <td>0</td>\n",
       "      <td>194</td>\n",
       "      <td>0</td>\n",
       "    </tr>\n",
       "    <tr>\n",
       "      <th>984a306deba9547385ac192e53b9e87984267306e7c892d24539c66b9a6c3b5653280ccd024ef0b9e9e38a4bc19f90bec844a3d0a562bab9c6490be4ec97abb9</th>\n",
       "      <td>190</td>\n",
       "      <td>190</td>\n",
       "      <td>190</td>\n",
       "      <td>190</td>\n",
       "      <td>190</td>\n",
       "      <td>190</td>\n",
       "      <td>0</td>\n",
       "      <td>190</td>\n",
       "      <td>0</td>\n",
       "    </tr>\n",
       "    <tr>\n",
       "      <th>76aad4f74a74aad509cc437dffee66589e3ef15d187da723739c819c1cf05a53dbfa4469bea92b71bb599550df536d60aa3bb20a5b4ab33bda8083015680494e</th>\n",
       "      <td>190</td>\n",
       "      <td>190</td>\n",
       "      <td>190</td>\n",
       "      <td>190</td>\n",
       "      <td>0</td>\n",
       "      <td>0</td>\n",
       "      <td>0</td>\n",
       "      <td>190</td>\n",
       "      <td>0</td>\n",
       "    </tr>\n",
       "    <tr>\n",
       "      <th>cdd10f681f8a0c4d0d9a74010cc24a5135eb6ef7efd43aa599f892360e3f08d74ee17703365b289857068b7dc1991adcc374efbfbb0d9ee1979c7470447b5392</th>\n",
       "      <td>189</td>\n",
       "      <td>189</td>\n",
       "      <td>189</td>\n",
       "      <td>189</td>\n",
       "      <td>189</td>\n",
       "      <td>189</td>\n",
       "      <td>0</td>\n",
       "      <td>189</td>\n",
       "      <td>0</td>\n",
       "    </tr>\n",
       "    <tr>\n",
       "      <th>...</th>\n",
       "      <td>...</td>\n",
       "      <td>...</td>\n",
       "      <td>...</td>\n",
       "      <td>...</td>\n",
       "      <td>...</td>\n",
       "      <td>...</td>\n",
       "      <td>...</td>\n",
       "      <td>...</td>\n",
       "      <td>...</td>\n",
       "    </tr>\n",
       "    <tr>\n",
       "      <th>fa58c2af87311a583aebd728f7ab9825b10e8e9fc27d01aaab9510439388cc56f5a79697e0f519e7f9cdc205575f21807b8635917639c179d8892000f9c493c2</th>\n",
       "      <td>102</td>\n",
       "      <td>102</td>\n",
       "      <td>102</td>\n",
       "      <td>102</td>\n",
       "      <td>102</td>\n",
       "      <td>102</td>\n",
       "      <td>0</td>\n",
       "      <td>102</td>\n",
       "      <td>0</td>\n",
       "    </tr>\n",
       "    <tr>\n",
       "      <th>99e874bbeb53f146b0ba609b279b56b02fe14ee951573055e2abdf47f7da57a3addec21e6c6cb7f0b57ac87e736afd8e3632780e98b10a560922bd13a2b6792d</th>\n",
       "      <td>102</td>\n",
       "      <td>102</td>\n",
       "      <td>102</td>\n",
       "      <td>102</td>\n",
       "      <td>102</td>\n",
       "      <td>102</td>\n",
       "      <td>0</td>\n",
       "      <td>102</td>\n",
       "      <td>0</td>\n",
       "    </tr>\n",
       "    <tr>\n",
       "      <th>276a42f4cdd917e6b2ea911430983f248b0ab71de54d093711abdbc9b8d9d625681d0396ee0bf7ebbb97d83b1e4efc4f97e224368dcc981785a495d9840bd858</th>\n",
       "      <td>102</td>\n",
       "      <td>102</td>\n",
       "      <td>102</td>\n",
       "      <td>102</td>\n",
       "      <td>102</td>\n",
       "      <td>102</td>\n",
       "      <td>0</td>\n",
       "      <td>102</td>\n",
       "      <td>14</td>\n",
       "    </tr>\n",
       "    <tr>\n",
       "      <th>7d29d10b44be5b8b329e76d196fb4969aa58d7111453023e0e8620128c5fbece51ea351e35432ea71997a52e0edae99f25876c998dab67d0c269e8ca4078db9c</th>\n",
       "      <td>101</td>\n",
       "      <td>101</td>\n",
       "      <td>101</td>\n",
       "      <td>101</td>\n",
       "      <td>86</td>\n",
       "      <td>86</td>\n",
       "      <td>0</td>\n",
       "      <td>101</td>\n",
       "      <td>0</td>\n",
       "    </tr>\n",
       "    <tr>\n",
       "      <th>408fafa376ff45cac4e4ce05ada4be5977bf1c20f764eb5191b58d09e97a3b0c13badf672296e89bd324a566c9002eb92f9b0153664704bcd69b31095f15b7b3</th>\n",
       "      <td>101</td>\n",
       "      <td>101</td>\n",
       "      <td>101</td>\n",
       "      <td>101</td>\n",
       "      <td>101</td>\n",
       "      <td>101</td>\n",
       "      <td>0</td>\n",
       "      <td>101</td>\n",
       "      <td>0</td>\n",
       "    </tr>\n",
       "  </tbody>\n",
       "</table>\n",
       "<p>63 rows × 9 columns</p>\n",
       "</div>"
      ],
      "text/plain": [
       "                                                    path  sentence  up_votes  \\\n",
       "client_id                                                                      \n",
       "4244270a829329c1e995b5d984c825f54a3d9fd4a5a710e...   197       197       197   \n",
       "c6e59eed5dad38761e244a1149e3be5a1f7e6527855ec22...   194       194       194   \n",
       "984a306deba9547385ac192e53b9e87984267306e7c892d...   190       190       190   \n",
       "76aad4f74a74aad509cc437dffee66589e3ef15d187da72...   190       190       190   \n",
       "cdd10f681f8a0c4d0d9a74010cc24a5135eb6ef7efd43aa...   189       189       189   \n",
       "...                                                  ...       ...       ...   \n",
       "fa58c2af87311a583aebd728f7ab9825b10e8e9fc27d01a...   102       102       102   \n",
       "99e874bbeb53f146b0ba609b279b56b02fe14ee95157305...   102       102       102   \n",
       "276a42f4cdd917e6b2ea911430983f248b0ab71de54d093...   102       102       102   \n",
       "7d29d10b44be5b8b329e76d196fb4969aa58d7111453023...   101       101       101   \n",
       "408fafa376ff45cac4e4ce05ada4be5977bf1c20f764eb5...   101       101       101   \n",
       "\n",
       "                                                    down_votes  age  gender  \\\n",
       "client_id                                                                     \n",
       "4244270a829329c1e995b5d984c825f54a3d9fd4a5a710e...         197  197     197   \n",
       "c6e59eed5dad38761e244a1149e3be5a1f7e6527855ec22...         194  194     194   \n",
       "984a306deba9547385ac192e53b9e87984267306e7c892d...         190  190     190   \n",
       "76aad4f74a74aad509cc437dffee66589e3ef15d187da72...         190    0       0   \n",
       "cdd10f681f8a0c4d0d9a74010cc24a5135eb6ef7efd43aa...         189  189     189   \n",
       "...                                                        ...  ...     ...   \n",
       "fa58c2af87311a583aebd728f7ab9825b10e8e9fc27d01a...         102  102     102   \n",
       "99e874bbeb53f146b0ba609b279b56b02fe14ee95157305...         102  102     102   \n",
       "276a42f4cdd917e6b2ea911430983f248b0ab71de54d093...         102  102     102   \n",
       "7d29d10b44be5b8b329e76d196fb4969aa58d7111453023...         101   86      86   \n",
       "408fafa376ff45cac4e4ce05ada4be5977bf1c20f764eb5...         101  101     101   \n",
       "\n",
       "                                                    accents  locale  segment  \n",
       "client_id                                                                     \n",
       "4244270a829329c1e995b5d984c825f54a3d9fd4a5a710e...        0     197        0  \n",
       "c6e59eed5dad38761e244a1149e3be5a1f7e6527855ec22...        0     194        0  \n",
       "984a306deba9547385ac192e53b9e87984267306e7c892d...        0     190        0  \n",
       "76aad4f74a74aad509cc437dffee66589e3ef15d187da72...        0     190        0  \n",
       "cdd10f681f8a0c4d0d9a74010cc24a5135eb6ef7efd43aa...        0     189        0  \n",
       "...                                                     ...     ...      ...  \n",
       "fa58c2af87311a583aebd728f7ab9825b10e8e9fc27d01a...        0     102        0  \n",
       "99e874bbeb53f146b0ba609b279b56b02fe14ee95157305...        0     102        0  \n",
       "276a42f4cdd917e6b2ea911430983f248b0ab71de54d093...        0     102       14  \n",
       "7d29d10b44be5b8b329e76d196fb4969aa58d7111453023...        0     101        0  \n",
       "408fafa376ff45cac4e4ce05ada4be5977bf1c20f764eb5...        0     101        0  \n",
       "\n",
       "[63 rows x 9 columns]"
      ]
     },
     "execution_count": 21,
     "metadata": {},
     "output_type": "execute_result"
    }
   ],
   "source": [
    "summary[\n",
    "    (summary.path <= 200) &\n",
    "    (summary.path > 100)\n",
    "]\n",
    "# take 1 speaker with 100ish sentences (assuming 1 sentence is 5s, then I should take no more than speakers with >= 360 sentences / 30hours) \n",
    "# sample: fa58c2af87311a583aebd728f7ab9825b10e8e9fc27d01aaab9510439388cc56f5a79697e0f519e7f9cdc205575f21807b8635917639c179d8892000f9c493c2"
   ]
  },
  {
   "cell_type": "code",
   "execution_count": 30,
   "id": "60fe0f8b",
   "metadata": {},
   "outputs": [],
   "source": [
    "filtered = df[df.client_id == \"fa58c2af87311a583aebd728f7ab9825b10e8e9fc27d01aaab9510439388cc56f5a79697e0f519e7f9cdc205575f21807b8635917639c179d8892000f9c493c2\"].copy()"
   ]
  },
  {
   "cell_type": "code",
   "execution_count": 31,
   "id": "1070abbb",
   "metadata": {},
   "outputs": [],
   "source": [
    "filtered[\"wav_path\"] = filtered.path.apply(lambda x: x.split(\".\")[0] + \".wav\")"
   ]
  },
  {
   "cell_type": "code",
   "execution_count": 33,
   "id": "80dbb96b",
   "metadata": {},
   "outputs": [],
   "source": [
    "filtered.to_csv(\"/Users/arie/Downloads/cv-corpus-12.0-2022-12-07/nlonespeaker.csv\")"
   ]
  },
  {
   "cell_type": "markdown",
   "id": "ee453c34",
   "metadata": {},
   "source": [
    "I will filter the wav files to only use one speaker"
   ]
  },
  {
   "cell_type": "code",
   "execution_count": 42,
   "id": "0338f33c",
   "metadata": {},
   "outputs": [],
   "source": [
    "filtered[\"local_wav_path\"] = \"/Users/arie/Downloads/cv-corpus-12.0-2022-12-07/nl/wavs/\" + filtered[\"wav_path\"]"
   ]
  },
  {
   "cell_type": "code",
   "execution_count": 45,
   "id": "0de31d84",
   "metadata": {},
   "outputs": [
    {
     "data": {
      "text/plain": [
       "'/Users/arie/Downloads/cv-corpus-12.0-2022-12-07/nl/wavs/common_voice_nl_17706972.wav'"
      ]
     },
     "execution_count": 45,
     "metadata": {},
     "output_type": "execute_result"
    }
   ],
   "source": [
    "# sample 1 path\n",
    "filtered.iloc[0].local_wav_path"
   ]
  },
  {
   "cell_type": "code",
   "execution_count": 46,
   "id": "23ccb247",
   "metadata": {},
   "outputs": [],
   "source": [
    "import shutil\n",
    "from pathlib import Path"
   ]
  },
  {
   "cell_type": "code",
   "execution_count": 48,
   "id": "b345433f",
   "metadata": {},
   "outputs": [],
   "source": [
    "# create necessary dir\n",
    "target_dir = \"/Users/arie/Downloads/cv-corpus-12.0-2022-12-07/nl/onespeakerwavs\"\n",
    "Path(target_dir).mkdir(parents=True, exist_ok=True)"
   ]
  },
  {
   "cell_type": "code",
   "execution_count": 49,
   "id": "461755f6",
   "metadata": {},
   "outputs": [],
   "source": [
    "filtered[\"target_wav_path\"] = target_dir + \"/\" + filtered[\"wav_path\"]"
   ]
  },
  {
   "cell_type": "code",
   "execution_count": 50,
   "id": "ad21b833",
   "metadata": {},
   "outputs": [
    {
     "data": {
      "text/plain": [
       "'/Users/arie/Downloads/cv-corpus-12.0-2022-12-07/nl/onespeakerwavs/common_voice_nl_17706972.wav'"
      ]
     },
     "execution_count": 50,
     "metadata": {},
     "output_type": "execute_result"
    }
   ],
   "source": [
    "# sample 1 target path\n",
    "filtered.iloc[0].target_wav_path"
   ]
  },
  {
   "cell_type": "code",
   "execution_count": 52,
   "id": "402b6331",
   "metadata": {},
   "outputs": [
    {
     "data": {
      "text/plain": [
       "(102, 13)"
      ]
     },
     "execution_count": 52,
     "metadata": {},
     "output_type": "execute_result"
    }
   ],
   "source": [
    "# I will copy over 102 wav files\n",
    "filtered.shape"
   ]
  },
  {
   "cell_type": "code",
   "execution_count": 55,
   "id": "9c71645f",
   "metadata": {},
   "outputs": [],
   "source": [
    "# copy and separate one speaker sentence recordings\n",
    "for row_id, row in filtered.iterrows():\n",
    "    shutil.copyfile(row.local_wav_path, row.target_wav_path)"
   ]
  },
  {
   "cell_type": "code",
   "execution_count": 56,
   "id": "ff9b4460",
   "metadata": {},
   "outputs": [
    {
     "name": "stdout",
     "output_type": "stream",
     "text": [
      "/Users/arie/Downloads/cv-corpus-12.0-2022-12-07/nl/onespeakerwavs/common_voice_nl_17706972.wav\r\n"
     ]
    }
   ],
   "source": [
    "!ls /Users/arie/Downloads/cv-corpus-12.0-2022-12-07/nl/onespeakerwavs/common_voice_nl_17706972.wav"
   ]
  },
  {
   "cell_type": "code",
   "execution_count": 77,
   "id": "9a6e57b9",
   "metadata": {},
   "outputs": [],
   "source": [
    "onespeaker_metadata = filtered[[\"path\", \"sentence\"]].copy()"
   ]
  },
  {
   "cell_type": "code",
   "execution_count": 78,
   "id": "48b25536",
   "metadata": {},
   "outputs": [],
   "source": [
    "onespeaker_metadata[\"path\"] = onespeaker_metadata[\"path\"].apply(lambda x: x.split(\".\")[0])"
   ]
  },
  {
   "cell_type": "code",
   "execution_count": 79,
   "id": "2c073131",
   "metadata": {},
   "outputs": [],
   "source": [
    "onespeaker_metadata[\"sentence_copy\"] = onespeaker_metadata[\"sentence\"]"
   ]
  },
  {
   "cell_type": "code",
   "execution_count": 82,
   "id": "0fb7260e",
   "metadata": {},
   "outputs": [],
   "source": [
    "onespeaker_metadata.to_csv(\n",
    "    \"/Users/arie/Downloads/cv-corpus-12.0-2022-12-07/commonspeechnlonespeaker/onespeakernl_metadata.csv\",\n",
    "    header=False,\n",
    "    index=False,\n",
    "    sep=\"|\"\n",
    ")"
   ]
  },
  {
   "cell_type": "markdown",
   "id": "531b4aac",
   "metadata": {},
   "source": [
    "sanity check whether the formated folder could be loaded "
   ]
  },
  {
   "cell_type": "code",
   "execution_count": 66,
   "id": "8de2f723",
   "metadata": {},
   "outputs": [],
   "source": [
    "from TTS.tts.datasets.formatters import ljspeech"
   ]
  },
  {
   "cell_type": "code",
   "execution_count": 67,
   "id": "52649cd9",
   "metadata": {},
   "outputs": [
    {
     "ename": "IndexError",
     "evalue": "list index out of range",
     "output_type": "error",
     "traceback": [
      "\u001b[0;31m---------------------------------------------------------------------------\u001b[0m",
      "\u001b[0;31mIndexError\u001b[0m                                Traceback (most recent call last)",
      "Input \u001b[0;32mIn [67]\u001b[0m, in \u001b[0;36m<cell line: 1>\u001b[0;34m()\u001b[0m\n\u001b[0;32m----> 1\u001b[0m items \u001b[38;5;241m=\u001b[39m \u001b[43mljspeech\u001b[49m\u001b[43m(\u001b[49m\n\u001b[1;32m      2\u001b[0m \u001b[43m    \u001b[49m\u001b[38;5;124;43m\"\u001b[39;49m\u001b[38;5;124;43m/Users/arie/Downloads/cv-corpus-12.0-2022-12-07/commonspeechnlonespeaker\u001b[39;49m\u001b[38;5;124;43m\"\u001b[39;49m\u001b[43m,\u001b[49m\n\u001b[1;32m      3\u001b[0m \u001b[43m    \u001b[49m\u001b[38;5;124;43m\"\u001b[39;49m\u001b[38;5;124;43monespeakernl_metadata.csv\u001b[39;49m\u001b[38;5;124;43m\"\u001b[39;49m\n\u001b[1;32m      4\u001b[0m \u001b[43m)\u001b[49m\n",
      "File \u001b[0;32m~/external/ling-696g/TTS/tts/datasets/formatters.py:162\u001b[0m, in \u001b[0;36mljspeech\u001b[0;34m(root_path, meta_file, **kwargs)\u001b[0m\n\u001b[1;32m    160\u001b[0m         cols \u001b[38;5;241m=\u001b[39m line\u001b[38;5;241m.\u001b[39msplit(\u001b[38;5;124m\"\u001b[39m\u001b[38;5;124m|\u001b[39m\u001b[38;5;124m\"\u001b[39m)\n\u001b[1;32m    161\u001b[0m         wav_file \u001b[38;5;241m=\u001b[39m os\u001b[38;5;241m.\u001b[39mpath\u001b[38;5;241m.\u001b[39mjoin(root_path, \u001b[38;5;124m\"\u001b[39m\u001b[38;5;124mwavs\u001b[39m\u001b[38;5;124m\"\u001b[39m, cols[\u001b[38;5;241m0\u001b[39m] \u001b[38;5;241m+\u001b[39m \u001b[38;5;124m\"\u001b[39m\u001b[38;5;124m.wav\u001b[39m\u001b[38;5;124m\"\u001b[39m)\n\u001b[0;32m--> 162\u001b[0m         text \u001b[38;5;241m=\u001b[39m \u001b[43mcols\u001b[49m\u001b[43m[\u001b[49m\u001b[38;5;241;43m2\u001b[39;49m\u001b[43m]\u001b[49m\n\u001b[1;32m    163\u001b[0m         items\u001b[38;5;241m.\u001b[39mappend({\u001b[38;5;124m\"\u001b[39m\u001b[38;5;124mtext\u001b[39m\u001b[38;5;124m\"\u001b[39m: text, \u001b[38;5;124m\"\u001b[39m\u001b[38;5;124maudio_file\u001b[39m\u001b[38;5;124m\"\u001b[39m: wav_file, \u001b[38;5;124m\"\u001b[39m\u001b[38;5;124mspeaker_name\u001b[39m\u001b[38;5;124m\"\u001b[39m: speaker_name, \u001b[38;5;124m\"\u001b[39m\u001b[38;5;124mroot_path\u001b[39m\u001b[38;5;124m\"\u001b[39m: root_path})\n\u001b[1;32m    164\u001b[0m \u001b[38;5;28;01mreturn\u001b[39;00m items\n",
      "\u001b[0;31mIndexError\u001b[0m: list index out of range"
     ]
    }
   ],
   "source": [
    "items = ljspeech(\n",
    "    \"/Users/arie/Downloads/cv-corpus-12.0-2022-12-07/commonspeechnlonespeaker\",\n",
    "    \"onespeakernl_metadata.csv\"\n",
    ")"
   ]
  },
  {
   "cell_type": "code",
   "execution_count": 72,
   "id": "99c0acf2",
   "metadata": {},
   "outputs": [],
   "source": [
    "import os"
   ]
  },
  {
   "cell_type": "code",
   "execution_count": 74,
   "id": "1fbd1b55",
   "metadata": {},
   "outputs": [
    {
     "name": "stdout",
     "output_type": "stream",
     "text": [
      "common_voice_nl_17706972|Ik lust geen pannenkoeken.\n",
      "\n"
     ]
    },
    {
     "ename": "IndexError",
     "evalue": "list index out of range",
     "output_type": "error",
     "traceback": [
      "\u001b[0;31m---------------------------------------------------------------------------\u001b[0m",
      "\u001b[0;31mIndexError\u001b[0m                                Traceback (most recent call last)",
      "Input \u001b[0;32mIn [74]\u001b[0m, in \u001b[0;36m<cell line: 5>\u001b[0;34m()\u001b[0m\n\u001b[1;32m      8\u001b[0m cols \u001b[38;5;241m=\u001b[39m line\u001b[38;5;241m.\u001b[39msplit(\u001b[38;5;124m\"\u001b[39m\u001b[38;5;124m|\u001b[39m\u001b[38;5;124m\"\u001b[39m)\n\u001b[1;32m      9\u001b[0m wav_file \u001b[38;5;241m=\u001b[39m os\u001b[38;5;241m.\u001b[39mpath\u001b[38;5;241m.\u001b[39mjoin(root_path, \u001b[38;5;124m\"\u001b[39m\u001b[38;5;124mwavs\u001b[39m\u001b[38;5;124m\"\u001b[39m, cols[\u001b[38;5;241m0\u001b[39m] \u001b[38;5;241m+\u001b[39m \u001b[38;5;124m\"\u001b[39m\u001b[38;5;124m.wav\u001b[39m\u001b[38;5;124m\"\u001b[39m)\n\u001b[0;32m---> 10\u001b[0m text \u001b[38;5;241m=\u001b[39m \u001b[43mcols\u001b[49m\u001b[43m[\u001b[49m\u001b[38;5;241;43m2\u001b[39;49m\u001b[43m]\u001b[49m\n\u001b[1;32m     11\u001b[0m items\u001b[38;5;241m.\u001b[39mappend({\u001b[38;5;124m\"\u001b[39m\u001b[38;5;124mtext\u001b[39m\u001b[38;5;124m\"\u001b[39m: text, \u001b[38;5;124m\"\u001b[39m\u001b[38;5;124maudio_file\u001b[39m\u001b[38;5;124m\"\u001b[39m: wav_file, \u001b[38;5;124m\"\u001b[39m\u001b[38;5;124mspeaker_name\u001b[39m\u001b[38;5;124m\"\u001b[39m: speaker_name, \u001b[38;5;124m\"\u001b[39m\u001b[38;5;124mroot_path\u001b[39m\u001b[38;5;124m\"\u001b[39m: root_path})\n",
      "\u001b[0;31mIndexError\u001b[0m: list index out of range"
     ]
    }
   ],
   "source": [
    "items = []\n",
    "root_path = \"/Users/arie/Downloads/cv-corpus-12.0-2022-12-07/commonspeechnlonespeaker\"\n",
    "speaker_name = \"ljspeech\"\n",
    "txt_file = \"/Users/arie/Downloads/cv-corpus-12.0-2022-12-07/commonspeechnlonespeaker/onespeakernl_metadata.csv\"\n",
    "with open(txt_file, \"r\", encoding=\"utf-8\") as ttf:\n",
    "    for line in ttf:\n",
    "        print(line)\n",
    "        cols = line.split(\"|\")\n",
    "        wav_file = os.path.join(root_path, \"wavs\", cols[0] + \".wav\")\n",
    "        text = cols[2]\n",
    "        items.append({\"text\": text, \"audio_file\": wav_file, \"speaker_name\": speaker_name, \"root_path\": root_path})"
   ]
  },
  {
   "cell_type": "code",
   "execution_count": null,
   "id": "2e07c0d7",
   "metadata": {},
   "outputs": [],
   "source": []
  }
 ],
 "metadata": {
  "kernelspec": {
   "display_name": "Python 3 (ipykernel)",
   "language": "python",
   "name": "python3"
  },
  "language_info": {
   "codemirror_mode": {
    "name": "ipython",
    "version": 3
   },
   "file_extension": ".py",
   "mimetype": "text/x-python",
   "name": "python",
   "nbconvert_exporter": "python",
   "pygments_lexer": "ipython3",
   "version": "3.9.15"
  }
 },
 "nbformat": 4,
 "nbformat_minor": 5
}
